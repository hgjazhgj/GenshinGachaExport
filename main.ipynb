{
 "metadata": {
  "language_info": {
   "codemirror_mode": {
    "name": "ipython",
    "version": 3
   },
   "file_extension": ".py",
   "mimetype": "text/x-python",
   "name": "python",
   "nbconvert_exporter": "python",
   "pygments_lexer": "ipython3",
   "version": "3.8.7"
  },
  "orig_nbformat": 2,
  "kernelspec": {
   "name": "python3",
   "display_name": "Python 3.8.7 64-bit",
   "metadata": {
    "interpreter": {
     "hash": "1baa965d5efe3ac65b79dfc60c0d706280b1da80fedb7760faf2759126c4f253"
    }
   }
  }
 },
 "nbformat": 4,
 "nbformat_minor": 2,
 "cells": [
  {
   "cell_type": "code",
   "execution_count": 1,
   "metadata": {},
   "outputs": [],
   "source": [
    "from capture import capture\n",
    "from merge import merge\n",
    "from writeXLSX import writeXLSX\n",
    "from convert import convert\n",
    "import json"
   ]
  },
  {
   "cell_type": "code",
   "execution_count": 2,
   "metadata": {},
   "outputs": [],
   "source": [
    "# localdata = []\n",
    "with open(\"gachaData.json\", \"r\", encoding=\"utf-8\") as f:\n",
    "    localdata = json.load(f)"
   ]
  },
  {
   "cell_type": "code",
   "execution_count": 3,
   "metadata": {},
   "outputs": [],
   "source": [
    "# localdata = convert(localdata)"
   ]
  },
  {
   "cell_type": "code",
   "execution_count": 4,
   "metadata": {},
   "outputs": [
    {
     "output_type": "stream",
     "name": "stdout",
     "text": [
      "fetching gachaType 200 page 1\n",
      "fetching gachaType 200 page 2\n",
      "fetching gachaType 200 page 3\n",
      "fetching gachaType 200 page 4\n",
      "fetching gachaType 200 page 5\n",
      "fetching gachaType 200 page 6\n",
      "fetching gachaType 200 page 7\n",
      "fetching gachaType 200 page 8\n",
      "fetching gachaType 200 page 9\n",
      "fetching gachaType 100 page 1\n",
      "fetching gachaType 301 page 1\n",
      "fetching gachaType 301 page 2\n",
      "fetching gachaType 301 page 3\n",
      "fetching gachaType 301 page 4\n",
      "fetching gachaType 301 page 5\n",
      "fetching gachaType 301 page 6\n",
      "fetching gachaType 301 page 7\n",
      "fetching gachaType 301 page 8\n",
      "fetching gachaType 301 page 9\n",
      "fetching gachaType 301 page 10\n",
      "fetching gachaType 301 page 11\n",
      "fetching gachaType 301 page 12\n",
      "fetching gachaType 301 page 13\n",
      "fetching gachaType 301 page 14\n",
      "fetching gachaType 301 page 15\n",
      "fetching gachaType 301 page 16\n",
      "fetching gachaType 301 page 17\n",
      "fetching gachaType 301 page 18\n",
      "fetching gachaType 301 page 19\n",
      "fetching gachaType 301 page 20\n",
      "fetching gachaType 301 page 21\n",
      "fetching gachaType 301 page 22\n",
      "fetching gachaType 301 page 23\n",
      "fetching gachaType 301 page 24\n",
      "fetching gachaType 301 page 25\n",
      "fetching gachaType 301 page 26\n",
      "fetching gachaType 301 page 27\n",
      "fetching gachaType 301 page 28\n",
      "fetching gachaType 301 page 29\n",
      "fetching gachaType 301 page 30\n",
      "fetching gachaType 301 page 31\n",
      "fetching gachaType 301 page 32\n",
      "fetching gachaType 301 page 33\n",
      "fetching gachaType 301 page 34\n",
      "fetching gachaType 301 page 35\n",
      "fetching gachaType 301 page 36\n",
      "fetching gachaType 301 page 37\n",
      "fetching gachaType 302 page 1\n",
      "fetching gachaType 302 page 2\n",
      "add 0 record(s) to 角色活动祈愿\n",
      "add 0 record(s) to 常驻祈愿\n",
      "merge 新手祈愿 failed in 0 and 20 record(s)\n",
      "add 0 record(s) to 武器活动祈愿\n"
     ]
    }
   ],
   "source": [
    "gachadata = merge(capture(),localdata)"
   ]
  },
  {
   "cell_type": "code",
   "execution_count": 5,
   "metadata": {},
   "outputs": [],
   "source": [
    "with open('gachaData.json', \"w\", encoding=\"utf-8\") as f:\n",
    "    json.dump(gachadata, f, ensure_ascii=False, sort_keys=False, indent=4)"
   ]
  },
  {
   "cell_type": "code",
   "execution_count": 6,
   "metadata": {},
   "outputs": [],
   "source": [
    "writeXLSX(gachadata, \"gachaExport.xlsx\")"
   ]
  }
 ]
}