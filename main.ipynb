{
 "metadata": {
  "language_info": {
   "codemirror_mode": {
    "name": "ipython",
    "version": 3
   },
   "file_extension": ".py",
   "mimetype": "text/x-python",
   "name": "python",
   "nbconvert_exporter": "python",
   "pygments_lexer": "ipython3",
   "version": "3.8.7"
  },
  "orig_nbformat": 2,
  "kernelspec": {
   "name": "python387jvsc74a57bd01baa965d5efe3ac65b79dfc60c0d706280b1da80fedb7760faf2759126c4f253",
   "display_name": "Python 3.8.7 64-bit"
  }
 },
 "nbformat": 4,
 "nbformat_minor": 2,
 "cells": [
  {
   "cell_type": "code",
   "execution_count": 1,
   "metadata": {},
   "outputs": [],
   "source": [
    "from capture import capture\n",
    "from merge import merge\n",
    "from writeXLSX import writeXLSX\n",
    "from convert import convert\n",
    "import json\n",
    "import time"
   ]
  },
  {
   "cell_type": "code",
   "execution_count": 2,
   "metadata": {},
   "outputs": [],
   "source": [
    "timestr = time.strftime(\"%Y-%m-%d_%H.%M.%S\", time.localtime())"
   ]
  },
  {
   "cell_type": "code",
   "execution_count": 3,
   "metadata": {},
   "outputs": [],
   "source": [
    "# localdata = []\n",
    "with open(\"gachaData.json\", \"r\", encoding=\"utf-8\") as f:\n",
    "    localdata = json.load(f)"
   ]
  },
  {
   "cell_type": "code",
   "execution_count": 4,
   "metadata": {},
   "outputs": [],
   "source": [
    "# localdata = convert(localdata)"
   ]
  },
  {
   "cell_type": "code",
   "execution_count": 5,
   "metadata": {},
   "outputs": [
    {
     "output_type": "stream",
     "name": "stdout",
     "text": [
      "fetching gachaType 200 page 1\n",
      "fetching gachaType 200 page 2\n",
      "fetching gachaType 200 page 3\n",
      "fetching gachaType 200 page 4\n",
      "fetching gachaType 200 page 5\n",
      "fetching gachaType 200 page 6\n",
      "fetching gachaType 200 page 7\n",
      "fetching gachaType 100 page 1\n",
      "fetching gachaType 301 page 1\n",
      "fetching gachaType 301 page 2\n",
      "fetching gachaType 301 page 3\n",
      "fetching gachaType 301 page 4\n",
      "fetching gachaType 301 page 5\n",
      "fetching gachaType 301 page 6\n",
      "fetching gachaType 301 page 7\n",
      "fetching gachaType 301 page 8\n",
      "fetching gachaType 301 page 9\n",
      "fetching gachaType 301 page 10\n",
      "fetching gachaType 301 page 11\n",
      "fetching gachaType 301 page 12\n",
      "fetching gachaType 301 page 13\n",
      "fetching gachaType 301 page 14\n",
      "fetching gachaType 301 page 15\n",
      "fetching gachaType 301 page 16\n",
      "fetching gachaType 301 page 17\n",
      "fetching gachaType 301 page 18\n",
      "fetching gachaType 301 page 19\n",
      "fetching gachaType 301 page 20\n",
      "fetching gachaType 302 page 1\n"
     ]
    }
   ],
   "source": [
    "capturedata = capture()"
   ]
  },
  {
   "cell_type": "code",
   "execution_count": 6,
   "metadata": {},
   "outputs": [],
   "source": [
    "# with open(f\"captureData-{timestr}.json\", \"w\", encoding=\"utf-8\") as f:\n",
    "#     json.dump(capturedata, f, ensure_ascii=False, sort_keys=False, indent=4)"
   ]
  },
  {
   "cell_type": "code",
   "execution_count": 7,
   "metadata": {},
   "outputs": [
    {
     "output_type": "stream",
     "name": "stdout",
     "text": [
      "add 0 record(s) to 常驻祈愿\nadd 0 record(s) to 角色活动祈愿\nmerge 新手祈愿 failed in 0 and 20 record(s)\nadd 0 record(s) to 武器活动祈愿\n"
     ]
    }
   ],
   "source": [
    "gachadata = merge(capturedata, localdata)"
   ]
  },
  {
   "cell_type": "code",
   "execution_count": 8,
   "metadata": {},
   "outputs": [],
   "source": [
    "with open(\"gachaData.json\", \"w\", encoding=\"utf-8\") as f:\n",
    "    json.dump(gachadata, f, ensure_ascii=False, sort_keys=False, indent=4)\n",
    "# with open(f\"gachaData-{timestr}.json\", \"w\", encoding=\"utf-8\") as f:\n",
    "#     json.dump(gachadata, f, ensure_ascii=False, sort_keys=False, indent=4)"
   ]
  },
  {
   "cell_type": "code",
   "execution_count": 9,
   "metadata": {},
   "outputs": [],
   "source": [
    "writeXLSX(gachadata, \"gachaExport.xlsx\")"
   ]
  },
  {
   "cell_type": "code",
   "execution_count": null,
   "metadata": {},
   "outputs": [],
   "source": []
  }
 ]
}